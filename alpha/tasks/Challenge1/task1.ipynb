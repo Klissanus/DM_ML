{
 "cells": [
  {
   "cell_type": "markdown",
   "metadata": {},
   "source": [
    " В ряд стоят N детей, каждому из которых присвоен рейтинг. Вы должны раздать им конфеты, так, чтобы каждому ребёнку досталось хотя бы по одной, и чтобы ребёнок с более высоким рейтингом, чем его сосед, получил больше конфет, чем этот сосед.   \n",
    "Опишите эффективный алгоритм, определяющий минимальное число конфет, которое вам понадобится (ответом может быть код, псевдокод или русский язык)."
   ]
  },
  {
   "cell_type": "code",
   "execution_count": 1,
   "metadata": {
    "collapsed": false
   },
   "outputs": [],
   "source": [
    "import random as rnd\n",
    "from matplotlib import pyplot as plt"
   ]
  },
  {
   "cell_type": "markdown",
   "metadata": {},
   "source": [
    "Генерируем данные либо с повтором рейтинга или с уникальными рейтингами"
   ]
  },
  {
   "cell_type": "code",
   "execution_count": 7,
   "metadata": {
    "collapsed": false
   },
   "outputs": [
    {
     "name": "stdout",
     "output_type": "stream",
     "text": [
      "Rate - > Nums\n",
      "{0: [2], 1: [5], 2: [3], 3: [1], 4: [10], 5: [9], 6: [8], 7: [4], 8: [6], 9: [7]}\n"
     ]
    }
   ],
   "source": [
    "#бесповторная генерация\n",
    "N = 10\n",
    "rate_to_num_list = list(range(1, N + 1))\n",
    "rnd.shuffle(rate_to_num_list)\n",
    "rate_to_num = {}\n",
    "for i in range(N):\n",
    "    rate_to_num[i] = [rate_to_num_list[i]] if i not in rate_to_num else rate_to_num[i].append(rate_to_num_list[i])\n",
    "\n",
    "print('Rate - > Nums')\n",
    "print(rate_to_num)  # rate_to_num[rate] = childNumber"
   ]
  },
  {
   "cell_type": "code",
   "execution_count": 8,
   "metadata": {
    "collapsed": false
   },
   "outputs": [],
   "source": [
    "# # повторная генерация\n",
    "# N = 6\n",
    "# rate_to_num = {1: [2], 2: [3, 4, 5], 3: [1, 6]}"
   ]
  },
  {
   "cell_type": "markdown",
   "metadata": {},
   "source": [
    "За время О(n) создаем обратное отображение num_to_rate.  \n",
    "Если нам изначально дано отображение num_to_rate, то получить rate_to_num тоже можно за O(n)"
   ]
  },
  {
   "cell_type": "code",
   "execution_count": 9,
   "metadata": {
    "collapsed": false
   },
   "outputs": [
    {
     "name": "stdout",
     "output_type": "stream",
     "text": [
      "Num -> Rate\n",
      "{0: -1, 11: -1, 2: 0, 5: 1, 3: 2, 1: 3, 10: 4, 9: 5, 8: 6, 4: 7, 6: 8, 7: 9}\n"
     ]
    }
   ],
   "source": [
    "#Если нам на вход дан [(child1, rate1), ... , (childN, rateN)], то можно создать отображение rate_to_num за O(N)\n",
    "num_to_rate = {}\n",
    "# 0 & N+1 indexes is bounds \n",
    "num_to_rate[0] = -1\n",
    "num_to_rate[N+1] = -1\n",
    "for rate, numList in rate_to_num.items():\n",
    "    for num in numList:\n",
    "        num_to_rate[num] = rate\n",
    "print('Num -> Rate')\n",
    "print(num_to_rate)"
   ]
  },
  {
   "cell_type": "markdown",
   "metadata": {},
   "source": [
    "Изначально у всех 0 конфет  \n",
    "Алгоритм раздает конфеты сначала людям с маленьким рейтингом, потом большим  \n",
    "Алгоритм учитывает соседей по обе стороны  \n",
    "Так как идем от меньшего рейтинга к большему, то соседа с большим рейтингом, чем у текущего будет 0 конфет,  \n",
    "и поэтому текущему номеру присваиваем максиальное кол-во конфет у соседа + 1  \n",
    "Если есть повторные рейтинги, то вводим дополнительную проверку на случай если сосед имеет такой же рейтинг"
   ]
  },
  {
   "cell_type": "code",
   "execution_count": 10,
   "metadata": {
    "collapsed": false
   },
   "outputs": [
    {
     "name": "stdout",
     "output_type": "stream",
     "text": [
      "{0: 0, 1: 2, 2: 1, 3: 2, 4: 3, 5: 1, 6: 2, 7: 4, 8: 3, 9: 2, 10: 1, 11: 0}\n",
      "Answer (total sweets): 21\n"
     ]
    }
   ],
   "source": [
    "# 0 & N+1 indexes are bounds \n",
    "num_to_sweets = {}\n",
    "for i in range(0, N+2):\n",
    "    num_to_sweets[i] = 0\n",
    "sum_sweets = 0\n",
    "for rate, numList in rate_to_num.items():\n",
    "    for num in numList:\n",
    "        min_rate = min(num_to_rate[num-1], num_to_rate[num+1])\n",
    "        if num_to_rate[num-1] == min_rate and min_rate == rate:\n",
    "            num_to_sweets[num] = max(num_to_sweets[num-1], num_to_sweets[num+1])\n",
    "        else:\n",
    "            num_to_sweets[num] = max(num_to_sweets[num-1], num_to_sweets[num+1]) + 1\n",
    "        sum_sweets += num_to_sweets[num]\n",
    "print(num_to_sweets)\n",
    "print('Answer (total sweets): ' + str(sum_sweets))"
   ]
  },
  {
   "cell_type": "code",
   "execution_count": 11,
   "metadata": {
    "collapsed": false
   },
   "outputs": [
    {
     "data": {
      "image/png": "[encoded data removed]",
      "text/plain": [
       "<matplotlib.figure.Figure at 0x8913746f98>"
      ]
     },
     "metadata": {},
     "output_type": "display_data"
    },
    {
     "name": "stdout",
     "output_type": "stream",
     "text": [
      "[1, 2, 3, 4, 5, 6, 7, 8, 9, 10]\n",
      "[3, 0, 2, 7, 1, 8, 9, 6, 5, 4]\n"
     ]
    },
    {
     "data": {
      "image/png": "[encoded data removed]",
      "text/plain": [
       "<matplotlib.figure.Figure at 0x8913d6dd68>"
      ]
     },
     "metadata": {},
     "output_type": "display_data"
    },
    {
     "name": "stdout",
     "output_type": "stream",
     "text": [
      "[1, 2, 3, 4, 5, 6, 7, 8, 9, 10]\n",
      "[2, 1, 2, 3, 1, 2, 4, 3, 2, 1]\n"
     ]
    }
   ],
   "source": [
    "nums = list(range(0, N+1))\n",
    "rates = [None] * (N+1)\n",
    "sweets = [None] * (N+1)\n",
    "for i in range(1, N+1):\n",
    "    rates[i] = num_to_rate[i]\n",
    "    sweets[i] = num_to_sweets[i]\n",
    "\n",
    "plt.figure(figsize=(15, 5))\n",
    "plt.bar(nums[1:], rates[1:], color = 'green')\n",
    "plt.title(\"Rates(Nums)\")\n",
    "plt.xlabel(\"Nums\")\n",
    "plt.ylabel('Rates')\n",
    "plt.xticks(nums[1:])\n",
    "plt.show()\n",
    "print(nums[1:])\n",
    "print(rates[1:])\n",
    "\n",
    "plt.figure(figsize=(15, 5))\n",
    "plt.bar(nums[1:], sweets[1:], color = 'green')\n",
    "plt.title(\"Sweets(Nums)\")\n",
    "plt.xlabel(\"Nums\")\n",
    "plt.ylabel('Sweets')\n",
    "plt.xticks(nums[1:])\n",
    "plt.show()\n",
    "print(nums[1:])\n",
    "print(sweets[1:])"
   ]
  },
  {
   "cell_type": "code",
   "execution_count": null,
   "metadata": {
    "collapsed": true
   },
   "outputs": [],
   "source": []
  },
  {
   "cell_type": "code",
   "execution_count": null,
   "metadata": {
    "collapsed": true
   },
   "outputs": [],
   "source": []
  }
 ],
 "metadata": {
  "kernelspec": {
   "display_name": "Python 3",
   "language": "python",
   "name": "python3"
  },
  "language_info": {
   "codemirror_mode": {
    "name": "ipython",
    "version": 3
   },
   "file_extension": ".py",
   "mimetype": "text/x-python",
   "name": "python",
   "nbconvert_exporter": "python",
   "pygments_lexer": "ipython3",
   "version": "3.6.0"
  }
 },
 "nbformat": 4,
 "nbformat_minor": 2
}
