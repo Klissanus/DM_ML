{
 "cells": [
  {
   "cell_type": "code",
   "execution_count": 61,
   "metadata": {
    "collapsed": true
   },
   "outputs": [],
   "source": [
    "import sympy as sp\n",
    "import numpy as np\n",
    "import matplotlib.pyplot as plt\n",
    "#import pylab\n",
    "import math\n",
    "from IPython.display import display, Math, Latex\n",
    "from sympy.plotting import plot"
   ]
  },
  {
   "cell_type": "code",
   "execution_count": 15,
   "metadata": {
    "collapsed": true
   },
   "outputs": [],
   "source": [
    "#погрешности для составных формул\n",
    "def get_complex_err_formula(func, integr_type):\n",
    "    a, b, h, x = sp.symbols('a, b, h, x')\n",
    "    complex_err = {\n",
    "        'trap' : -(b-a)/12*h**2*sp.diff(func, x, 2),\n",
    "        'simpson' : -(b-a)/180*h**4*sp.diff(func, x, 4),\n",
    "        'euler' : (b-a)/720*h**4*sp.diff(func, x, 4)\n",
    "    }\n",
    "    return complex_err[integr_type]\n",
    "    "
   ]
  },
  {
   "cell_type": "code",
   "execution_count": 48,
   "metadata": {
    "collapsed": true
   },
   "outputs": [],
   "source": [
    "def get_point_count(limits, eps, func, formula_type):\n",
    "    formula = get_complex_err_formula(func, formula_type)\n",
    "    a, b, h, x = sp.symbols('a, b, h, x')\n",
    "    formula = formula.subs([(a, limits[0]), (b, limits[1])])\n",
    "    fa = formula.subs(x, limits[0])\n",
    "    fb = formula.subs(x, limits[1])\n",
    "    #print(fa)\n",
    "    sa = sp.solve(fa - eps, h)\n",
    "    sb = sp.solve(fb - eps, h)\n",
    "    s = min(abs(sa[0]), abs(sb[0]))\n",
    "    #print(sa)\n",
    "    return math.ceil((limits[1] - limits[0]) / s) + 1"
   ]
  },
  {
   "cell_type": "code",
   "execution_count": 96,
   "metadata": {
    "collapsed": false
   },
   "outputs": [],
   "source": [
    "def get_accuracy(limits, n_count, func, formula_type):\n",
    "    formula = get_complex_err_formula(func, formula_type)\n",
    "    a, b, h, x = sp.symbols('a, b, h, x')\n",
    "    step = (limits[1] - limits[0]) / (n_count - 1)\n",
    "    formula = formula.subs([(a, limits[0]), (b, limits[1]), (h, step)])\n",
    "    fa = formula.subs(x, limits[0])\n",
    "    fb = formula.subs(x, limits[1])\n",
    "    return max(abs(fa), abs(fb))"
   ]
  },
  {
   "cell_type": "code",
   "execution_count": null,
   "metadata": {
    "collapsed": true
   },
   "outputs": [],
   "source": [
    "def calculate_integr(limits, point_count, func, meth_type):\n",
    "    methods = {\n",
    "        'Chebyshev': \n",
    "    }"
   ]
  },
  {
   "cell_type": "code",
   "execution_count": null,
   "metadata": {
    "collapsed": true
   },
   "outputs": [],
   "source": [
    "class SquadMeth:\n",
    "    def form(limits, func, n):\n",
    "        a, b = sp.symbols('a, b')\n",
    "        expr = (b-a)/2\n",
    "        for i in \n",
    "        \n",
    "        \n",
    "        \n",
    "class Chebyshev(SquadMeth):\n",
    "    t2 = {\n",
    "        1 : -0.577550,\n",
    "        2 : +0.577550\n",
    "    }\n",
    "    t3 = {\n",
    "        1 : -0.707107,\n",
    "        2 : 0,\n",
    "        3 : +0.707107\n",
    "    }\n",
    "    A2 = 1\n",
    "    A3 = 2/3\n",
    "    nn = {\n",
    "        2: (t2, A2),\n",
    "        3: (t3, A3) \n",
    "    }"
   ]
  },
  {
   "cell_type": "code",
   "execution_count": 100,
   "metadata": {
    "collapsed": false
   },
   "outputs": [
    {
     "name": "stdout",
     "output_type": "stream",
     "text": [
      "h**2/4\n",
      "17\n"
     ]
    },
    {
     "data": {
      "text/plain": [
       "0.0009765625"
      ]
     },
     "execution_count": 100,
     "metadata": {},
     "output_type": "execute_result"
    }
   ],
   "source": [
    "#print(f'a {1+1}')\n",
    "x = sp.symbols('x')\n",
    "get_complex_err_formula(sp.log(x)/x, 'trap')\n",
    "pc = get_point_count((1, 2), 0.001, sp.log(x)/x, 'trap')\n",
    "print(pc)\n",
    "#print(sp.log(sp.E)) # == 1\n",
    "a = get_accuracy((1,2), 17, sp.log(x)/x, 'trap')\n",
    "log = sp.symbols('log')\n",
    "eval(str(a).replace('log', 'math.log'))"
   ]
  },
  {
   "cell_type": "code",
   "execution_count": null,
   "metadata": {
    "collapsed": true
   },
   "outputs": [],
   "source": []
  }
 ],
 "metadata": {
  "kernelspec": {
   "display_name": "Python 3",
   "language": "python",
   "name": "python3"
  },
  "language_info": {
   "codemirror_mode": {
    "name": "ipython",
    "version": 3
   },
   "file_extension": ".py",
   "mimetype": "text/x-python",
   "name": "python",
   "nbconvert_exporter": "python",
   "pygments_lexer": "ipython3",
   "version": "3.6.0"
  }
 },
 "nbformat": 4,
 "nbformat_minor": 2
}
